{
  "nbformat": 4,
  "nbformat_minor": 0,
  "metadata": {
    "colab": {
      "provenance": []
    },
    "kernelspec": {
      "name": "python3",
      "display_name": "Python 3"
    },
    "language_info": {
      "name": "python"
    }
  },
  "cells": [
    {
      "cell_type": "markdown",
      "source": [
        "# ZDX Authentication\n"
      ],
      "metadata": {
        "id": "UoBYTH5h-hR_"
      }
    },
    {
      "cell_type": "code",
      "execution_count": null,
      "metadata": {
        "id": "RzXwmMol6JVE",
        "colab": {
          "base_uri": "https://localhost:8080/"
        },
        "outputId": "69e981e3-9d45-40a2-8896-e3558a71d2a4"
      },
      "outputs": [
        {
          "output_type": "stream",
          "name": "stdout",
          "text": [
            "Authentication Successfull\n"
          ]
        }
      ],
      "source": [
        "import hashlib\n",
        "import json\n",
        "import time\n",
        "import requests\n",
        "from urllib3.exceptions import InsecureRequestWarning\n",
        "import subprocess\n",
        "from google.colab import userdata\n",
        "\n",
        "subprocess.run([\"clear\", \"-l\"])\n",
        "\n",
        "requests.packages.urllib3.disable_warnings(category=InsecureRequestWarning)\n",
        "headers = {'Content-Type': 'application/json', 'accept': 'application/json'}\n",
        "timestamp = int(time.time())\n",
        "\n",
        "payload = {\n",
        "    'key_id': userdata.get('key_id'),\n",
        "    'key_secret': userdata.get('key_value'),\n",
        "    'timestamp': timestamp\n",
        "}\n",
        "\n",
        "response = requests.post('https://api.zdxcloud.net/v1/oauth/token', verify=False, headers=headers, data=json.dumps(payload))\n",
        "\n",
        "if response.status_code == 200:\n",
        "    accessToken = response.json()['token']\n",
        "    print(\"Authentication Successfull\")\n",
        "else:\n",
        "    print(\"Failed with status code: {}\".format(response.status_code))\n",
        "\n",
        "headers = {'Content-Type': 'application/json', 'accept': 'application/json', 'Authorization': \"Bearer \" + accessToken}\n"
      ]
    },
    {
      "cell_type": "markdown",
      "source": [
        "# Getting A list of departments"
      ],
      "metadata": {
        "id": "ZZYrqt-C_Tzg"
      }
    },
    {
      "cell_type": "code",
      "source": [
        "apicall = 'https://api.zdxcloud.net/v1//administration/departments'\n",
        "apicalldata = requests.get(apicall, verify=False, headers=headers)\n",
        "json_formatted_str = json.dumps(apicalldata.json(), indent=2)\n",
        "print(json_formatted_str)"
      ],
      "metadata": {
        "id": "zh96rQjC_pRo",
        "outputId": "28aadbba-431a-47dc-f6f9-25afc899b84c",
        "colab": {
          "base_uri": "https://localhost:8080/"
        }
      },
      "execution_count": null,
      "outputs": [
        {
          "output_type": "stream",
          "name": "stdout",
          "text": [
            "[\n",
            "  {\n",
            "    \"id\": 55001625,\n",
            "    \"name\": \"Sales\"\n",
            "  },\n",
            "  {\n",
            "    \"id\": 56442135,\n",
            "    \"name\": \"Legal\"\n",
            "  },\n",
            "  {\n",
            "    \"id\": 55093486,\n",
            "    \"name\": \"Engineering\"\n",
            "  },\n",
            "  {\n",
            "    \"id\": 48863618,\n",
            "    \"name\": \"IT\"\n",
            "  },\n",
            "  {\n",
            "    \"id\": 48863607,\n",
            "    \"name\": \"HR\"\n",
            "  },\n",
            "  {\n",
            "    \"id\": 0,\n",
            "    \"name\": \"N/A\"\n",
            "  },\n",
            "  {\n",
            "    \"id\": 48863612,\n",
            "    \"name\": \"Marketing\"\n",
            "  },\n",
            "  {\n",
            "    \"id\": 91098977,\n",
            "    \"name\": \"Vendor\"\n",
            "  },\n",
            "  {\n",
            "    \"id\": 91191779,\n",
            "    \"name\": \"OT\"\n",
            "  }\n",
            "]\n"
          ]
        }
      ]
    },
    {
      "cell_type": "markdown",
      "source": [
        "# Getting a list of locations"
      ],
      "metadata": {
        "id": "K1fPk9IIULo_"
      }
    },
    {
      "cell_type": "code",
      "source": [
        "apicall = 'https://api.zdxcloud.net/v1/administration/locations'\n",
        "apicalldata = requests.get(apicall, verify=False, headers=headers)\n",
        "json_formatted_str = json.dumps(apicalldata.json(), indent=2)\n",
        "print(json_formatted_str)"
      ],
      "metadata": {
        "id": "vXz0ei56ULpF",
        "colab": {
          "base_uri": "https://localhost:8080/"
        },
        "outputId": "c98de39c-28f7-4711-e360-b6240329c035"
      },
      "execution_count": null,
      "outputs": [
        {
          "output_type": "stream",
          "name": "stdout",
          "text": [
            "[\n",
            "  {\n",
            "    \"id\": 4294967293,\n",
            "    \"name\": \"Road Warrior\"\n",
            "  },\n",
            "  {\n",
            "    \"id\": 73260557,\n",
            "    \"name\": \"Columbus Office\"\n",
            "  }\n",
            "]\n"
          ]
        }
      ]
    },
    {
      "cell_type": "markdown",
      "source": [
        "# Getting a list of ongoing alerts"
      ],
      "metadata": {
        "id": "PdcCTLmKUMQh"
      }
    },
    {
      "cell_type": "code",
      "source": [
        "apicall = 'https://api.zdxcloud.net/v1/alerts/ongoing'\n",
        "apicalldata = requests.get(apicall, verify=False, headers=headers)\n",
        "json_formatted_str = json.dumps(apicalldata.json(), indent=2)\n",
        "print(json_formatted_str)"
      ],
      "metadata": {
        "id": "O9_jZ45oUMQh",
        "colab": {
          "base_uri": "https://localhost:8080/"
        },
        "outputId": "f5fe00cb-d824-42f8-9a6d-de4d839a9466"
      },
      "execution_count": null,
      "outputs": [
        {
          "output_type": "stream",
          "name": "stdout",
          "text": [
            "{\n",
            "  \"alerts\": [\n",
            "    {\n",
            "      \"id\": 7331117988695825952,\n",
            "      \"rule_name\": \"High CPU 75 percent\",\n",
            "      \"severity\": \"1\",\n",
            "      \"alert_type\": \"device\",\n",
            "      \"alert_status\": \"STARTED\",\n",
            "      \"application\": {\n",
            "        \"id\": 101,\n",
            "        \"name\": \"Default Device Rule\"\n",
            "      },\n",
            "      \"num_geolocations\": 1,\n",
            "      \"num_devices\": 2,\n",
            "      \"started_on\": 1706907611,\n",
            "      \"ended_on\": 0\n",
            "    },\n",
            "    {\n",
            "      \"id\": 7331117438940011996,\n",
            "      \"rule_name\": \"CPU 80 percent or higher\",\n",
            "      \"severity\": \"1\",\n",
            "      \"alert_type\": \"device\",\n",
            "      \"alert_status\": \"STARTED\",\n",
            "      \"application\": {\n",
            "        \"id\": 101,\n",
            "        \"name\": \"Default Device Rule\"\n",
            "      },\n",
            "      \"num_geolocations\": 1,\n",
            "      \"num_devices\": 1,\n",
            "      \"started_on\": 1706907611,\n",
            "      \"ended_on\": 0\n",
            "    },\n",
            "    {\n",
            "      \"id\": 7331109995761676965,\n",
            "      \"rule_name\": \"Alert 1\",\n",
            "      \"severity\": \"1\",\n",
            "      \"alert_type\": \"application\",\n",
            "      \"alert_status\": \"ONGOING\",\n",
            "      \"application\": {\n",
            "        \"id\": 5,\n",
            "        \"name\": \"ServiceNow\"\n",
            "      },\n",
            "      \"num_geolocations\": 50,\n",
            "      \"num_devices\": 112,\n",
            "      \"started_on\": 1706906099,\n",
            "      \"ended_on\": 0\n",
            "    },\n",
            "    {\n",
            "      \"id\": 7331109759538475636,\n",
            "      \"rule_name\": \"Test-South America\",\n",
            "      \"severity\": \"1\",\n",
            "      \"alert_type\": \"device\",\n",
            "      \"alert_status\": \"ONGOING\",\n",
            "      \"application\": {\n",
            "        \"id\": 101,\n",
            "        \"name\": \"Default Device Rule\"\n",
            "      },\n",
            "      \"num_geolocations\": 1,\n",
            "      \"num_devices\": 3,\n",
            "      \"started_on\": 1706905819,\n",
            "      \"ended_on\": 0\n",
            "    },\n",
            "    {\n",
            "      \"id\": 7331074854339213464,\n",
            "      \"rule_name\": \"Disk Space greater than 80 Percent\",\n",
            "      \"severity\": \"1\",\n",
            "      \"alert_type\": \"device\",\n",
            "      \"alert_status\": \"ONGOING\",\n",
            "      \"application\": {\n",
            "        \"id\": 101,\n",
            "        \"name\": \"Default Device Rule\"\n",
            "      },\n",
            "      \"num_geolocations\": 4,\n",
            "      \"num_devices\": 4,\n",
            "      \"started_on\": 1706897716,\n",
            "      \"ended_on\": 0\n",
            "    },\n",
            "    {\n",
            "      \"id\": 7331048530484622746,\n",
            "      \"rule_name\": \"High CPU\",\n",
            "      \"severity\": \"1\",\n",
            "      \"alert_type\": \"device\",\n",
            "      \"alert_status\": \"ONGOING\",\n",
            "      \"application\": {\n",
            "        \"id\": 101,\n",
            "        \"name\": \"Default Device Rule\"\n",
            "      },\n",
            "      \"num_geolocations\": 47,\n",
            "      \"num_devices\": 93,\n",
            "      \"started_on\": 1706891468,\n",
            "      \"ended_on\": 0\n",
            "    },\n",
            "    {\n",
            "      \"id\": 7331048113872794970,\n",
            "      \"rule_name\": \"Oceania\",\n",
            "      \"severity\": \"1\",\n",
            "      \"alert_type\": \"device\",\n",
            "      \"alert_status\": \"ONGOING\",\n",
            "      \"application\": {\n",
            "        \"id\": 101,\n",
            "        \"name\": \"Default Device Rule\"\n",
            "      },\n",
            "      \"num_geolocations\": 5,\n",
            "      \"num_devices\": 8,\n",
            "      \"started_on\": 1706891415,\n",
            "      \"ended_on\": 0\n",
            "    },\n",
            "    {\n",
            "      \"id\": 7331046279921756755,\n",
            "      \"rule_name\": \"test_app_slowness\",\n",
            "      \"severity\": \"1\",\n",
            "      \"alert_type\": \"application\",\n",
            "      \"alert_status\": \"ONGOING\",\n",
            "      \"application\": {\n",
            "        \"id\": 10,\n",
            "        \"name\": \"Microsoft Teams Web App\"\n",
            "      },\n",
            "      \"num_geolocations\": 49,\n",
            "      \"num_devices\": 122,\n",
            "      \"started_on\": 1706891396,\n",
            "      \"ended_on\": 0\n",
            "    },\n",
            "    {\n",
            "      \"id\": 7331044153912942318,\n",
            "      \"rule_name\": \"Test_slowness_service_now\",\n",
            "      \"severity\": \"1\",\n",
            "      \"alert_type\": \"application\",\n",
            "      \"alert_status\": \"ONGOING\",\n",
            "      \"application\": {\n",
            "        \"id\": 5,\n",
            "        \"name\": \"ServiceNow\"\n",
            "      },\n",
            "      \"num_geolocations\": 54,\n",
            "      \"num_devices\": 127,\n",
            "      \"started_on\": 1706890798,\n",
            "      \"ended_on\": 0\n",
            "    },\n",
            "    {\n",
            "      \"id\": 7331044149617975021,\n",
            "      \"rule_name\": \"Test_slowness\",\n",
            "      \"severity\": \"1\",\n",
            "      \"alert_type\": \"application\",\n",
            "      \"alert_status\": \"ONGOING\",\n",
            "      \"application\": {\n",
            "        \"id\": 6,\n",
            "        \"name\": \"Box\"\n",
            "      },\n",
            "      \"num_geolocations\": 54,\n",
            "      \"num_devices\": 127,\n",
            "      \"started_on\": 1706890799,\n",
            "      \"ended_on\": 0\n",
            "    },\n",
            "    {\n",
            "      \"id\": 7331041649947005763,\n",
            "      \"rule_name\": \"test\",\n",
            "      \"severity\": \"1\",\n",
            "      \"alert_type\": \"network\",\n",
            "      \"alert_status\": \"ONGOING\",\n",
            "      \"application\": {\n",
            "        \"id\": 6,\n",
            "        \"name\": \"Box\"\n",
            "      },\n",
            "      \"num_geolocations\": 1,\n",
            "      \"num_devices\": 8,\n",
            "      \"started_on\": 1706890196,\n",
            "      \"ended_on\": 0\n",
            "    }\n",
            "  ],\n",
            "  \"next_offset\": \"\"\n",
            "}\n"
          ]
        }
      ]
    },
    {
      "cell_type": "markdown",
      "source": [
        "# Getting a list of all monitored apps"
      ],
      "metadata": {
        "id": "yfxvnLC9UMfi"
      }
    },
    {
      "cell_type": "code",
      "source": [
        "apicall = 'https://api.zdxcloud.net/v1/apps'\n",
        "apicalldata = requests.get(apicall, verify=False, headers=headers)\n",
        "json_formatted_str = json.dumps(apicalldata.json(), indent=2)\n",
        "print(json_formatted_str)"
      ],
      "metadata": {
        "id": "ntVhrkUTUMfj"
      },
      "execution_count": null,
      "outputs": []
    },
    {
      "cell_type": "markdown",
      "source": [
        "# Getting score of a monitored app (e.g App ID 19)"
      ],
      "metadata": {
        "id": "QMPOBZxEUMnI"
      }
    },
    {
      "cell_type": "code",
      "source": [
        "apicall = 'https://api.zdxcloud.net/v1/apps/19/score'\n",
        "apicalldata = requests.get(apicall, verify=False, headers=headers)\n",
        "json_formatted_str = json.dumps(apicalldata.json(), indent=2)\n",
        "print(json_formatted_str)"
      ],
      "metadata": {
        "id": "-AFDonSzUMnJ"
      },
      "execution_count": null,
      "outputs": []
    },
    {
      "cell_type": "markdown",
      "source": [
        "# Getting a list of ZDX Users"
      ],
      "metadata": {
        "id": "FzH67A7CmSei"
      }
    },
    {
      "cell_type": "code",
      "source": [
        "apicall = 'https://api.zdxcloud.net/v1/users'\n",
        "apicalldata = requests.get(apicall, verify=False, headers=headers)\n",
        "json_formatted_str = json.dumps(apicalldata.json(), indent=2)\n",
        "print(json_formatted_str)"
      ],
      "metadata": {
        "id": "Yhdf6_FAmSei"
      },
      "execution_count": null,
      "outputs": []
    },
    {
      "cell_type": "markdown",
      "source": [
        "# Getting the list of the devices"
      ],
      "metadata": {
        "id": "KULplILRmShX"
      }
    },
    {
      "cell_type": "code",
      "source": [
        "apicall = 'https://api.zdxcloud.net/v1/devices'\n",
        "apicalldata = requests.get(apicall, verify=False, headers=headers)\n",
        "json_formatted_str = json.dumps(apicalldata.json(), indent=2)\n",
        "print(json_formatted_str)"
      ],
      "metadata": {
        "id": "km9hNGODmShY"
      },
      "execution_count": null,
      "outputs": []
    },
    {
      "cell_type": "markdown",
      "source": [
        "\n",
        "# Getting a list of events on the devices"
      ],
      "metadata": {
        "id": "vHLn5IdLmSkK"
      }
    },
    {
      "cell_type": "code",
      "source": [
        "apicall = 'https://api.zdxcloud.net/v1/devices/87436107/events'\n",
        "apicalldata = requests.get(apicall, verify=False, headers=headers)\n",
        "json_formatted_str = json.dumps(apicalldata.json(), indent=2)\n",
        "print(json_formatted_str)"
      ],
      "metadata": {
        "id": "GlU1_NLImSkK"
      },
      "execution_count": null,
      "outputs": []
    },
    {
      "cell_type": "markdown",
      "source": [
        "# Getting details about a user"
      ],
      "metadata": {
        "id": "v-vQ0jFQmM1k"
      }
    },
    {
      "cell_type": "code",
      "source": [
        "apicall = 'https://api.zdxcloud.net/v1/apps/19/users/69401761'\n",
        "apicalldata = requests.get(apicall, verify=False, headers=headers)\n",
        "json_formatted_str = json.dumps(apicalldata.json(), indent=2)\n",
        "print(json_formatted_str)"
      ],
      "metadata": {
        "id": "B4mi5XDxmM1y"
      },
      "execution_count": null,
      "outputs": []
    },
    {
      "cell_type": "markdown",
      "source": [
        "# Getting Detailed Cloudpath Using API"
      ],
      "metadata": {
        "id": "dbfSyDDr_hI5"
      }
    },
    {
      "cell_type": "code",
      "source": [
        "apicall = 'https://api.zdxcloud.net/v1/devices/87436107/apps/19/cloudpath-probes/92634/cloudpath'\n",
        "apicalldata = requests.get(apicall, verify=False, headers=headers)\n",
        "json_formatted_str = json.dumps(apicalldata.json(), indent=2)\n",
        "print(json_formatted_str)"
      ],
      "metadata": {
        "id": "xFUXB8vd-5xo"
      },
      "execution_count": null,
      "outputs": []
    }
  ]
}